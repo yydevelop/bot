{
 "cells": [
  {
   "cell_type": "code",
   "execution_count": 2,
   "metadata": {},
   "outputs": [],
   "source": [
    "import requests\n",
    "from datetime import datetime, timedelta\n",
    "import ccxt\n",
    "import pandas as pd\n",
    "import numpy as np\n",
    "import talib\n",
    "import settings\n",
    "import time\n",
    "import joblib\n",
    "from logging import getLogger,Formatter,StreamHandler,FileHandler,INFO\n",
    "\n",
    "# モデルの読み込み\n",
    "model_y_buy = joblib.load('./model_y_buy.xz')\n",
    "model_y_sell = joblib.load('./model_y_sell.xz')\n",
    "\n",
    "# ccxtのパラメータ\n",
    "symbol = 'BTC/JPY'\t  # 購入予定のシンボル\n",
    "product_code = 'FX_BTC_JPY'\n",
    "bitflyer = ccxt.bitflyer()\t\t # 使用する取引所を記入\n",
    "bitflyer.apiKey = settings.apiKey\n",
    "bitflyer.secret = settings.secret"
   ]
  },
  {
   "cell_type": "code",
   "execution_count": 32,
   "metadata": {},
   "outputs": [
    {
     "name": "stdout",
     "output_type": "stream",
     "text": [
      "{'parent_order_acceptance_id': 'JRF20220106-132327-093445'}\n"
     ]
    }
   ],
   "source": [
    "\n",
    "parent_id = bitflyer.private_post_sendparentorder(params = {\n",
    "\t\t\"order_method\" : \"IFD\", \n",
    "\t\t\"parameters\" : [\n",
    "\t\t\t{\n",
    "\t\t\t\t#IFD：指値で買い注文、約定したらOCO注文\n",
    "\t\t\t\t\"product_code\": product_code,\n",
    "\t\t\t\t\"condition_type\": \"LIMIT\",\n",
    "\t\t\t\t\"side\": \"BUY\",\n",
    "\t\t\t\t\"price\": 5150000,\n",
    "\t\t\t\t\"size\": 0.01,\n",
    "\t\t\t},{\n",
    "\t\t\t\t#OCO①：指値で利確注文\n",
    "\t\t\t\t\"product_code\": product_code, \n",
    "\t\t\t\t\"condition_type\": \"LIMIT\", \n",
    "\t\t\t\t\"side\": \"SELL\",\n",
    "\t\t\t\t\"price\": 5164000,\n",
    "\t\t\t\t\"size\": 0.01,\n",
    "\t\t\t}\n",
    "\t\t]\n",
    "\t}\n",
    ")\n",
    "\n",
    "print(parent_id)"
   ]
  },
  {
   "cell_type": "code",
   "execution_count": 34,
   "metadata": {},
   "outputs": [
    {
     "name": "stdout",
     "output_type": "stream",
     "text": [
      "[{'id': 'JRF20220106-131637-992535', 'clientOrderId': None, 'info': {'id': '0', 'child_order_id': 'JFX20220106-131637-400930F', 'product_code': 'FX_BTC_JPY', 'side': 'BUY', 'child_order_type': 'LIMIT', 'price': '5146611.0', 'average_price': '0.0', 'size': '0.01', 'child_order_state': 'ACTIVE', 'expire_date': '2022-02-05T13:16:37', 'child_order_date': '2022-01-06T13:16:37', 'child_order_acceptance_id': 'JRF20220106-131637-992535', 'outstanding_size': '0.01', 'cancel_size': '0.0', 'executed_size': '0.0', 'total_commission': '0.0'}, 'timestamp': 1641474997000, 'datetime': '2022-01-06T13:16:37.000Z', 'lastTradeTimestamp': None, 'status': 'open', 'symbol': 'FX_BTC_JPY', 'type': 'limit', 'timeInForce': None, 'postOnly': None, 'side': 'buy', 'price': 5146611.0, 'stopPrice': None, 'cost': 0.0, 'amount': 0.01, 'filled': 0.0, 'remaining': 0.01, 'fee': {'cost': 0.0, 'currency': None, 'rate': None}, 'average': None, 'trades': [], 'fees': [{'cost': 0.0, 'currency': None, 'rate': None}]}, {'id': 'JRF20220106-132327-992772', 'clientOrderId': None, 'info': {'id': '0', 'child_order_id': 'JFX20220106-132628-713174F', 'product_code': 'FX_BTC_JPY', 'side': 'SELL', 'child_order_type': 'LIMIT', 'price': '5164000.0', 'average_price': '0.0', 'size': '0.01', 'child_order_state': 'ACTIVE', 'expire_date': '2022-02-05T13:23:27', 'child_order_date': '2022-01-06T13:26:28', 'child_order_acceptance_id': 'JRF20220106-132327-992772', 'outstanding_size': '0.01', 'cancel_size': '0.0', 'executed_size': '0.0', 'total_commission': '0.0'}, 'timestamp': 1641475588000, 'datetime': '2022-01-06T13:26:28.000Z', 'lastTradeTimestamp': None, 'status': 'open', 'symbol': 'FX_BTC_JPY', 'type': 'limit', 'timeInForce': None, 'postOnly': None, 'side': 'sell', 'price': 5164000.0, 'stopPrice': None, 'cost': 0.0, 'amount': 0.01, 'filled': 0.0, 'remaining': 0.01, 'fee': {'cost': 0.0, 'currency': None, 'rate': None}, 'average': None, 'trades': [], 'fees': [{'cost': 0.0, 'currency': None, 'rate': None}]}]\n"
     ]
    }
   ],
   "source": [
    "# order = bitflyer.private_get_getparentorder(\n",
    "# \tparams = {\n",
    "# \t\t\"parent_order_acceptance_id\" : parent_id['parent_order_acceptance_id']\n",
    "# \t}\n",
    "# )\n",
    "orders = bitflyer.fetch_open_orders(symbol = product_code, params = { \"product_code\" : \"FX_BTC_JPY\" })\n",
    "\n",
    "print(orders)"
   ]
  },
  {
   "cell_type": "code",
   "execution_count": 11,
   "metadata": {},
   "outputs": [
    {
     "name": "stdout",
     "output_type": "stream",
     "text": [
      "JRF20220106-120213-078667\n"
     ]
    }
   ],
   "source": [
    "print(parent_id['parent_order_acceptance_id'])"
   ]
  },
  {
   "cell_type": "code",
   "execution_count": null,
   "metadata": {},
   "outputs": [],
   "source": [
    "# if is_buy:\n",
    "# \tside = \"BUY\"\n",
    "# \tother_side = \"SELL\"\n",
    "# else:\n",
    "# \tside = \"SELL\"\n",
    "# \tother_side = \"BUY\"\n",
    "\t\n",
    "# parent_id = bitflyer.private_post_sendparentorder(params = {\n",
    "# \t\t\"order_method\" : \"IFDOCO\", \n",
    "# \t\t\"minute_to_expire\" : 10000, \n",
    "# \t\t\"time_in_force\" :  \"GTC\",\n",
    "# \t\t\"parameters\" : [\n",
    "# \t\t\t{\n",
    "# \t\t\t\t#IFD：指値で買い注文、約定したらOCO注文\n",
    "# \t\t\t\t\"product_code\": TRADE_PAIR,\n",
    "# \t\t\t\t\"condition_type\": \"LIMIT\",\n",
    "# \t\t\t\t\"side\": side,\n",
    "# \t\t\t\t\"price\": ifd_price,\n",
    "# \t\t\t\t\"size\": order_size,\n",
    "# \t\t\t},{\n",
    "# \t\t\t\t#OCO①：指値で利確注文\n",
    "# \t\t\t\t\"product_code\": TRADE_PAIR, \n",
    "# \t\t\t\t\"condition_type\": \"LIMIT\", \n",
    "# \t\t\t\t\"side\": other_side,\n",
    "# \t\t\t\t\"price\": profit_price,\n",
    "# \t\t\t\t\"size\": order_size,\n",
    "# \t\t\t},{\n",
    "# \t\t\t\t#OCO②ストップ注文、トリガー価格を下回ったら成行で損切\n",
    "# \t\t\t\t\"product_code\": TRADE_PAIR, \n",
    "# \t\t\t\t\"condition_type\": \"STOP\", \n",
    "# \t\t\t\t\"side\": other_side,\n",
    "# \t\t\t\t\"trigger_price\": stop_loss_price,\n",
    "# \t\t\t\t\"size\": order_size,\n",
    "# \t\t\t}\n",
    "# \t\t]\n",
    "# \t}\n",
    "# )"
   ]
  }
 ],
 "metadata": {
  "interpreter": {
   "hash": "36fcdefcd0b5925349f05aae6d47362e91af0b7daf61000e4f3ff430f4df6dd5"
  },
  "kernelspec": {
   "display_name": "Python 3.9.7 64-bit ('base': conda)",
   "language": "python",
   "name": "python3"
  },
  "language_info": {
   "codemirror_mode": {
    "name": "ipython",
    "version": 3
   },
   "file_extension": ".py",
   "mimetype": "text/x-python",
   "name": "python",
   "nbconvert_exporter": "python",
   "pygments_lexer": "ipython3",
   "version": "3.9.7"
  },
  "orig_nbformat": 4
 },
 "nbformat": 4,
 "nbformat_minor": 2
}
