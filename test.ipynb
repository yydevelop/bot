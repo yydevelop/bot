{
 "cells": [
  {
   "cell_type": "code",
   "execution_count": 3,
   "metadata": {},
   "outputs": [],
   "source": [
    "import requests\n",
    "from datetime import datetime, timedelta\n",
    "import ccxt\n",
    "import pandas as pd\n",
    "import numpy as np\n",
    "import talib\n",
    "import settings\n",
    "import time\n",
    "import joblib\n",
    "from logging import getLogger,Formatter,StreamHandler,FileHandler,INFO\n",
    "\n",
    "# モデルの読み込み\n",
    "model_y_buy = joblib.load('./model_y_buy.xz')\n",
    "model_y_sell = joblib.load('./model_y_sell.xz')\n",
    "\n",
    "# ccxtのパラメータ\n",
    "symbol = 'BTC/JPY'\t  # 購入予定のシンボル\n",
    "product_code = 'FX_BTC_JPY'\n",
    "bitflyer = ccxt.bitflyer()\t\t # 使用する取引所を記入\n",
    "bitflyer.apiKey = settings.apiKey\n",
    "bitflyer.secret = settings.secret\n"
   ]
  },
  {
   "cell_type": "code",
   "execution_count": 8,
   "metadata": {},
   "outputs": [
    {
     "name": "stdout",
     "output_type": "stream",
     "text": [
      "[]\n",
      "[{'id': 'JRF20211231-040717-137786', 'clientOrderId': None, 'info': {'id': '0', 'child_order_id': 'JFX20211231-040717-173690F', 'product_code': 'FX_BTC_JPY', 'side': 'BUY', 'child_order_type': 'LIMIT', 'price': '5582151.0', 'average_price': '0.0', 'size': '0.01', 'child_order_state': 'ACTIVE', 'expire_date': '2022-01-30T04:07:17', 'child_order_date': '2021-12-31T04:07:17', 'child_order_acceptance_id': 'JRF20211231-040717-137786', 'outstanding_size': '0.01', 'cancel_size': '0.0', 'executed_size': '0.0', 'total_commission': '0.0'}, 'timestamp': 1640923637000, 'datetime': '2021-12-31T04:07:17.000Z', 'lastTradeTimestamp': None, 'status': 'open', 'symbol': 'FX_BTC_JPY', 'type': 'limit', 'timeInForce': None, 'postOnly': None, 'side': 'buy', 'price': 5582151.0, 'stopPrice': None, 'cost': 0.0, 'amount': 0.01, 'filled': 0.0, 'remaining': 0.01, 'fee': {'cost': 0.0, 'currency': None, 'rate': None}, 'average': None, 'trades': [], 'fees': [{'cost': 0.0, 'currency': None, 'rate': None}]}]\n"
     ]
    }
   ],
   "source": [
    "position = bitflyer.private_get_getpositions( params = { \"product_code\" : \"FX_BTC_JPY\" })\n",
    "orders = bitflyer.fetch_open_orders(\n",
    "\tsymbol = \"FX_BTC_JPY\",\n",
    "\tparams = { \"product_code\" : \"FX_BTC_JPY\" })\n",
    "print(position)\n",
    "print(orders)"
   ]
  },
  {
   "cell_type": "code",
   "execution_count": 6,
   "metadata": {},
   "outputs": [
    {
     "name": "stdout",
     "output_type": "stream",
     "text": [
      "Collecting git+https://github.com/MtkN1/gmocoiner.git\n",
      "  Cloning https://github.com/MtkN1/gmocoiner.git to c:\\users\\cheap\\appdata\\local\\temp\\pip-req-build-n1epkz82\n",
      "  Resolved https://github.com/MtkN1/gmocoiner.git to commit 777bb8c5f2d26c67fb05aade3a5871be1844f871\n",
      "Requirement already satisfied: requests in c:\\users\\cheap\\anaconda3\\lib\\site-packages (from gmocoiner==0.1) (2.26.0)\n",
      "Requirement already satisfied: urllib3<1.27,>=1.21.1 in c:\\users\\cheap\\anaconda3\\lib\\site-packages (from requests->gmocoiner==0.1) (1.26.7)\n",
      "Requirement already satisfied: charset-normalizer~=2.0.0 in c:\\users\\cheap\\anaconda3\\lib\\site-packages (from requests->gmocoiner==0.1) (2.0.4)\n",
      "Requirement already satisfied: certifi>=2017.4.17 in c:\\users\\cheap\\anaconda3\\lib\\site-packages (from requests->gmocoiner==0.1) (2021.10.8)\n",
      "Requirement already satisfied: idna<4,>=2.5 in c:\\users\\cheap\\anaconda3\\lib\\site-packages (from requests->gmocoiner==0.1) (3.2)\n",
      "Building wheels for collected packages: gmocoiner\n",
      "  Building wheel for gmocoiner (setup.py): started\n",
      "  Building wheel for gmocoiner (setup.py): finished with status 'done'\n",
      "  Created wheel for gmocoiner: filename=gmocoiner-0.1-py3-none-any.whl size=4501 sha256=e9d0daca606259d4c3f4dff4430b61501c3d01182fbcbffdcc93d7290c479a8e\n",
      "  Stored in directory: C:\\Users\\cheap\\AppData\\Local\\Temp\\pip-ephem-wheel-cache-5k47lpd5\\wheels\\0a\\48\\2b\\a5869a37876962a18061ccc2feeccf000a72ecb43c12219d02\n",
      "Successfully built gmocoiner\n",
      "Installing collected packages: gmocoiner\n",
      "Successfully installed gmocoiner-0.1\n"
     ]
    },
    {
     "name": "stderr",
     "output_type": "stream",
     "text": [
      "  Running command git clone -q https://github.com/MtkN1/gmocoiner.git 'C:\\Users\\cheap\\AppData\\Local\\Temp\\pip-req-build-n1epkz82'\n"
     ]
    }
   ],
   "source": [
    "!pip3 install -U git+https://github.com/MtkN1/gmocoiner.git"
   ]
  },
  {
   "cell_type": "code",
   "execution_count": 12,
   "metadata": {},
   "outputs": [
    {
     "name": "stdout",
     "output_type": "stream",
     "text": [
      "b'{\"status\":0,\"data\":[{\"openTime\":\"1641762000000\",\"open\":\"43885\",\"high\":\"43885\",\"low\":\"43885\",\"close\":\"43885\",\"volume\":\"3\"},{\"openTime\":\"1641764700000\",\"open\":\"43905\",\"high\":\"43905\",\"low\":\"43905\",\"close\":\"43905\",\"volume\":\"3\"},{\"openTime\":\"1641769200000\",\"open\":\"43905\",\"high\":\"43905\",\"low\":\"43635\",\"close\":\"43635\",\"volume\":\"10\"},{\"openTime\":\"1641770100000\",\"open\":\"43570\",\"high\":\"43570\",\"low\":\"43493\",\"close\":\"43493\",\"volume\":\"10.8\"},{\"openTime\":\"1641771000000\",\"open\":\"43510\",\"high\":\"43510\",\"low\":\"43510\",\"close\":\"43510\",\"volume\":\"5.2\"},{\"openTime\":\"1641771900000\",\"open\":\"43613\",\"high\":\"43613\",\"low\":\"43613\",\"close\":\"43613\",\"volume\":\"0.2\"},{\"openTime\":\"1641772800000\",\"open\":\"43540\",\"high\":\"43669\",\"low\":\"43395\",\"close\":\"43607\",\"volume\":\"9.5\"},{\"openTime\":\"1641773700000\",\"open\":\"43617\",\"high\":\"43617\",\"low\":\"43617\",\"close\":\"43617\",\"volume\":\"0.2\"},{\"openTime\":\"1641775500000\",\"open\":\"43291\",\"high\":\"43369\",\"low\":\"43291\",\"close\":\"43369\",\"volume\":\"16\"},{\"openTime\":\"1641776400000\",\"open\":\"43370\",\"high\":\"43370\",\"low\":\"43320\",\"close\":\"43320\",\"volume\":\"18\"},{\"openTime\":\"1641777300000\",\"open\":\"43320\",\"high\":\"43320\",\"low\":\"43320\",\"close\":\"43320\",\"volume\":\"2\"},{\"openTime\":\"1641778200000\",\"open\":\"43395\",\"high\":\"43395\",\"low\":\"43395\",\"close\":\"43395\",\"volume\":\"2\"}],\"responsetime\":\"2022-01-10T01:35:17.714Z\"}'\n"
     ]
    }
   ],
   "source": [
    "import asyncio\n",
    "from gmocoiner import GMOCoin\n",
    "import urllib.parse\n",
    "import urllib.request\n",
    "import json\n",
    "import pandas as pd\n",
    "\n",
    "def get_api(symbol: str) -> str:\n",
    "\tendPoint = \"https://api.coin.z.com/public\"\n",
    "\tklines = \"/v1/klines\"\n",
    "\t#params = {\"symbol\": symbol, \"interval\": \"1day\", \"date\": year}\n",
    "\tparams = {\"symbol\": symbol, \"interval\": \"15min\", \"date\": \"20220110\"}\n",
    "\turl = endPoint + klines + \"?\" + urllib.parse.urlencode(params)\n",
    "\treq = urllib.request.Request(url)\n",
    "\twith urllib.request.urlopen(req) as response:\n",
    "\t\treturn response.read()\n",
    "\n",
    "def json_to_df(json_str: str) -> pd.DataFrame:\n",
    "    d = json.loads(json_str)\n",
    "    df = pd.json_normalize(d, record_path=\"data\")\n",
    "    df = df.astype(\"float64\")\n",
    "    df[\"openTime\"] = pd.to_datetime(df[\"openTime\"], unit=\"ms\")\n",
    "    df.set_index(\"openTime\", inplace=True)\n",
    "    df.columns = [\"Open\", \"High\", \"Low\", \"Close\", \"Volume\"]\n",
    "    return df.tz_localize(\"UTC\").tz_convert(\"Asia/Tokyo\")\n",
    "\n",
    "\n",
    "print(get_api('BCH_JPY'))"
   ]
  },
  {
   "cell_type": "code",
   "execution_count": 3,
   "metadata": {},
   "outputs": [
    {
     "name": "stdout",
     "output_type": "stream",
     "text": [
      "{\n",
      "  \"status\": 0,\n",
      "  \"data\": [],\n",
      "  \"responsetime\": \"2022-01-10T05:12:46.208Z\"\n",
      "}\n"
     ]
    }
   ],
   "source": [
    "import requests\n",
    "import json\n",
    "import hmac\n",
    "import hashlib\n",
    "import time\n",
    "from datetime import datetime\n",
    "\n",
    "apiKey    = 'yirXnei+HGvRm9G9k9gC18OOQB2cUwqR'\n",
    "secretKey = '1fSPh31TeYXQ36jTCetCngHN7gZUuPNqRxPts4dyobBpxZZFNu+GmheTAWlP3DxH'\n",
    "\n",
    "timestamp = '{0}000'.format(int(time.mktime(datetime.now().timetuple())))\n",
    "method    = 'POST'\n",
    "endPoint  = 'https://api.coin.z.com/private'\n",
    "path      = '/v1/cancelBulkOrder'\n",
    "reqBody = {\n",
    "    \"symbols\": [\"BTC\",\"BTC_JPY\"],\n",
    "    \"side\": \"BUY\",\n",
    "    \"settleType\": \"OPEN\",\n",
    "    \"desc\": True\n",
    "}\n",
    "\n",
    "text = timestamp + method + path + json.dumps(reqBody)\n",
    "sign = hmac.new(bytes(secretKey.encode('ascii')), bytes(text.encode('ascii')), hashlib.sha256).hexdigest()\n",
    "\n",
    "headers = {\n",
    "    \"API-KEY\": apiKey,\n",
    "    \"API-TIMESTAMP\": timestamp,\n",
    "    \"API-SIGN\": sign\n",
    "}\n",
    "\n",
    "res = requests.post(endPoint + path, headers=headers, data=json.dumps(reqBody))\n",
    "print (json.dumps(res.json(), indent=2))"
   ]
  }
 ],
 "metadata": {
  "interpreter": {
   "hash": "36fcdefcd0b5925349f05aae6d47362e91af0b7daf61000e4f3ff430f4df6dd5"
  },
  "kernelspec": {
   "display_name": "Python 3.9.7 64-bit ('base': conda)",
   "language": "python",
   "name": "python3"
  },
  "language_info": {
   "codemirror_mode": {
    "name": "ipython",
    "version": 3
   },
   "file_extension": ".py",
   "mimetype": "text/x-python",
   "name": "python",
   "nbconvert_exporter": "python",
   "pygments_lexer": "ipython3",
   "version": "3.9.7"
  },
  "orig_nbformat": 4
 },
 "nbformat": 4,
 "nbformat_minor": 2
}
