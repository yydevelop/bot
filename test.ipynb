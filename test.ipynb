{
 "cells": [
  {
   "cell_type": "code",
   "execution_count": 3,
   "metadata": {},
   "outputs": [],
   "source": [
    "import requests\n",
    "from datetime import datetime, timedelta\n",
    "import ccxt\n",
    "import pandas as pd\n",
    "import numpy as np\n",
    "import talib\n",
    "import settings\n",
    "import time\n",
    "import joblib\n",
    "from logging import getLogger,Formatter,StreamHandler,FileHandler,INFO\n",
    "\n",
    "# モデルの読み込み\n",
    "model_y_buy = joblib.load('./model_y_buy.xz')\n",
    "model_y_sell = joblib.load('./model_y_sell.xz')\n",
    "\n",
    "# ccxtのパラメータ\n",
    "symbol = 'BTC/JPY'\t  # 購入予定のシンボル\n",
    "product_code = 'FX_BTC_JPY'\n",
    "bitflyer = ccxt.bitflyer()\t\t # 使用する取引所を記入\n",
    "bitflyer.apiKey = settings.apiKey\n",
    "bitflyer.secret = settings.secret\n"
   ]
  },
  {
   "cell_type": "code",
   "execution_count": 8,
   "metadata": {},
   "outputs": [
    {
     "name": "stdout",
     "output_type": "stream",
     "text": [
      "[]\n",
      "[{'id': 'JRF20211231-040717-137786', 'clientOrderId': None, 'info': {'id': '0', 'child_order_id': 'JFX20211231-040717-173690F', 'product_code': 'FX_BTC_JPY', 'side': 'BUY', 'child_order_type': 'LIMIT', 'price': '5582151.0', 'average_price': '0.0', 'size': '0.01', 'child_order_state': 'ACTIVE', 'expire_date': '2022-01-30T04:07:17', 'child_order_date': '2021-12-31T04:07:17', 'child_order_acceptance_id': 'JRF20211231-040717-137786', 'outstanding_size': '0.01', 'cancel_size': '0.0', 'executed_size': '0.0', 'total_commission': '0.0'}, 'timestamp': 1640923637000, 'datetime': '2021-12-31T04:07:17.000Z', 'lastTradeTimestamp': None, 'status': 'open', 'symbol': 'FX_BTC_JPY', 'type': 'limit', 'timeInForce': None, 'postOnly': None, 'side': 'buy', 'price': 5582151.0, 'stopPrice': None, 'cost': 0.0, 'amount': 0.01, 'filled': 0.0, 'remaining': 0.01, 'fee': {'cost': 0.0, 'currency': None, 'rate': None}, 'average': None, 'trades': [], 'fees': [{'cost': 0.0, 'currency': None, 'rate': None}]}]\n"
     ]
    }
   ],
   "source": [
    "position = bitflyer.private_get_getpositions( params = { \"product_code\" : \"FX_BTC_JPY\" })\n",
    "orders = bitflyer.fetch_open_orders(\n",
    "\tsymbol = \"FX_BTC_JPY\",\n",
    "\tparams = { \"product_code\" : \"FX_BTC_JPY\" })\n",
    "print(position)\n",
    "print(orders)"
   ]
  }
 ],
 "metadata": {
  "interpreter": {
   "hash": "36fcdefcd0b5925349f05aae6d47362e91af0b7daf61000e4f3ff430f4df6dd5"
  },
  "kernelspec": {
   "display_name": "Python 3.9.7 64-bit ('base': conda)",
   "language": "python",
   "name": "python3"
  },
  "language_info": {
   "name": "python",
   "version": "3.9.7"
  },
  "orig_nbformat": 4
 },
 "nbformat": 4,
 "nbformat_minor": 2
}
